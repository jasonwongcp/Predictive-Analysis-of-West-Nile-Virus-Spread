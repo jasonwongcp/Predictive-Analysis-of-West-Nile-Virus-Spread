{
 "cells": [
  {
   "cell_type": "code",
   "execution_count": 762,
   "id": "1fc6e7c2",
   "metadata": {},
   "outputs": [],
   "source": [
    "# import the nexessary libraries for the data extraction and analysis\n",
    "import numpy as np\n",
    "import pandas as pd\n",
    "import matplotlib.pyplot as plt\n",
    "%matplotlib inline\n",
    "\n",
    "import statsmodels.api as sm\n",
    "from scipy import stats\n",
    "import seaborn as sns"
   ]
  },
  {
   "cell_type": "code",
   "execution_count": 763,
   "id": "a51e794e",
   "metadata": {},
   "outputs": [],
   "source": [
    "# read the csv file\n",
    "df = pd.read_csv('mosquito_data_part_2.csv')"
   ]
  },
  {
   "cell_type": "code",
   "execution_count": 764,
   "id": "2e16df32",
   "metadata": {},
   "outputs": [
    {
     "data": {
      "text/html": [
       "<div>\n",
       "<style scoped>\n",
       "    .dataframe tbody tr th:only-of-type {\n",
       "        vertical-align: middle;\n",
       "    }\n",
       "\n",
       "    .dataframe tbody tr th {\n",
       "        vertical-align: top;\n",
       "    }\n",
       "\n",
       "    .dataframe thead th {\n",
       "        text-align: right;\n",
       "    }\n",
       "</style>\n",
       "<table border=\"1\" class=\"dataframe\">\n",
       "  <thead>\n",
       "    <tr style=\"text-align: right;\">\n",
       "      <th></th>\n",
       "      <th>Year</th>\n",
       "      <th>Week</th>\n",
       "      <th>Address Block</th>\n",
       "      <th>Trap</th>\n",
       "      <th>Trap type</th>\n",
       "      <th>Date</th>\n",
       "      <th>Mosquito number</th>\n",
       "      <th>WNV Present</th>\n",
       "      <th>Species</th>\n",
       "      <th>Lat</th>\n",
       "      <th>Lon</th>\n",
       "      <th>Month</th>\n",
       "    </tr>\n",
       "  </thead>\n",
       "  <tbody>\n",
       "    <tr>\n",
       "      <th>12054</th>\n",
       "      <td>2009</td>\n",
       "      <td>30</td>\n",
       "      <td>5XX S CENTRAL AVE</td>\n",
       "      <td>T031</td>\n",
       "      <td>GRAVID</td>\n",
       "      <td>2009-07-31 00:07:00</td>\n",
       "      <td>5</td>\n",
       "      <td>negative</td>\n",
       "      <td>CULEX PIPIENS</td>\n",
       "      <td>41.872873</td>\n",
       "      <td>-87.764737</td>\n",
       "      <td>7</td>\n",
       "    </tr>\n",
       "    <tr>\n",
       "      <th>15375</th>\n",
       "      <td>2007</td>\n",
       "      <td>23</td>\n",
       "      <td>40XX N AUSTIN AVE</td>\n",
       "      <td>T142</td>\n",
       "      <td>GRAVID</td>\n",
       "      <td>2007-06-29 11:06:17</td>\n",
       "      <td>1</td>\n",
       "      <td>negative</td>\n",
       "      <td>CULEX RESTUANS</td>\n",
       "      <td>41.953540</td>\n",
       "      <td>-87.776939</td>\n",
       "      <td>6</td>\n",
       "    </tr>\n",
       "    <tr>\n",
       "      <th>8425</th>\n",
       "      <td>2012</td>\n",
       "      <td>33</td>\n",
       "      <td>127XX S DOTY AVE</td>\n",
       "      <td>T115</td>\n",
       "      <td>GRAVID</td>\n",
       "      <td>2012-08-17 00:08:00</td>\n",
       "      <td>11</td>\n",
       "      <td>negative</td>\n",
       "      <td>CULEX RESTUANS</td>\n",
       "      <td>41.662387</td>\n",
       "      <td>-87.590180</td>\n",
       "      <td>8</td>\n",
       "    </tr>\n",
       "    <tr>\n",
       "      <th>16987</th>\n",
       "      <td>2016</td>\n",
       "      <td>30</td>\n",
       "      <td>14XX N HUMBOLDT DR</td>\n",
       "      <td>T033</td>\n",
       "      <td>GRAVID</td>\n",
       "      <td>2016-07-27 00:07:00</td>\n",
       "      <td>15</td>\n",
       "      <td>positive</td>\n",
       "      <td>CULEX RESTUANS</td>\n",
       "      <td>41.907288</td>\n",
       "      <td>-87.701391</td>\n",
       "      <td>7</td>\n",
       "    </tr>\n",
       "    <tr>\n",
       "      <th>11472</th>\n",
       "      <td>2010</td>\n",
       "      <td>25</td>\n",
       "      <td>100XX W OHARE AIRPORT</td>\n",
       "      <td>T912</td>\n",
       "      <td>GRAVID</td>\n",
       "      <td>2010-06-28 00:06:00</td>\n",
       "      <td>50</td>\n",
       "      <td>negative</td>\n",
       "      <td>CULEX RESTUANS</td>\n",
       "      <td>41.977738</td>\n",
       "      <td>-87.880969</td>\n",
       "      <td>6</td>\n",
       "    </tr>\n",
       "    <tr>\n",
       "      <th>13777</th>\n",
       "      <td>2007</td>\n",
       "      <td>39</td>\n",
       "      <td>37XX S PULASKI RD</td>\n",
       "      <td>T063</td>\n",
       "      <td>GRAVID</td>\n",
       "      <td>2007-10-04 00:10:00</td>\n",
       "      <td>2</td>\n",
       "      <td>negative</td>\n",
       "      <td>CULEX PIPIENS</td>\n",
       "      <td>41.825398</td>\n",
       "      <td>-87.723962</td>\n",
       "      <td>10</td>\n",
       "    </tr>\n",
       "    <tr>\n",
       "      <th>1048</th>\n",
       "      <td>2019</td>\n",
       "      <td>24</td>\n",
       "      <td>62XX N MCCLELLAN AVE</td>\n",
       "      <td>T236</td>\n",
       "      <td>GRAVID</td>\n",
       "      <td>2019-06-13 00:06:00</td>\n",
       "      <td>1</td>\n",
       "      <td>negative</td>\n",
       "      <td>CULEX TERRITANS</td>\n",
       "      <td>41.994966</td>\n",
       "      <td>-87.770837</td>\n",
       "      <td>6</td>\n",
       "    </tr>\n",
       "    <tr>\n",
       "      <th>4506</th>\n",
       "      <td>2015</td>\n",
       "      <td>31</td>\n",
       "      <td>25XX S MILLARD AVE</td>\n",
       "      <td>T152</td>\n",
       "      <td>GRAVID</td>\n",
       "      <td>2015-08-06 00:08:00</td>\n",
       "      <td>2</td>\n",
       "      <td>negative</td>\n",
       "      <td>CULEX RESTUANS</td>\n",
       "      <td>41.845715</td>\n",
       "      <td>-87.715899</td>\n",
       "      <td>8</td>\n",
       "    </tr>\n",
       "    <tr>\n",
       "      <th>1246</th>\n",
       "      <td>2018</td>\n",
       "      <td>34</td>\n",
       "      <td>89XX S CARPENTER ST</td>\n",
       "      <td>T159</td>\n",
       "      <td>GRAVID</td>\n",
       "      <td>2018-08-23 00:08:00</td>\n",
       "      <td>1</td>\n",
       "      <td>negative</td>\n",
       "      <td>CULEX SALINARIUS</td>\n",
       "      <td>41.731447</td>\n",
       "      <td>-87.649722</td>\n",
       "      <td>8</td>\n",
       "    </tr>\n",
       "    <tr>\n",
       "      <th>9142</th>\n",
       "      <td>2012</td>\n",
       "      <td>24</td>\n",
       "      <td>82XX S KOSTNER AVE</td>\n",
       "      <td>T225</td>\n",
       "      <td>GRAVID</td>\n",
       "      <td>2012-06-15 00:06:00</td>\n",
       "      <td>2</td>\n",
       "      <td>negative</td>\n",
       "      <td>CULEX RESTUANS</td>\n",
       "      <td>41.742670</td>\n",
       "      <td>-87.731550</td>\n",
       "      <td>6</td>\n",
       "    </tr>\n",
       "  </tbody>\n",
       "</table>\n",
       "</div>"
      ],
      "text/plain": [
       "       Year  Week          Address Block  Trap Trap type                 Date  \\\n",
       "12054  2009    30      5XX S CENTRAL AVE  T031    GRAVID  2009-07-31 00:07:00   \n",
       "15375  2007    23      40XX N AUSTIN AVE  T142    GRAVID  2007-06-29 11:06:17   \n",
       "8425   2012    33       127XX S DOTY AVE  T115    GRAVID  2012-08-17 00:08:00   \n",
       "16987  2016    30     14XX N HUMBOLDT DR  T033    GRAVID  2016-07-27 00:07:00   \n",
       "11472  2010    25  100XX W OHARE AIRPORT  T912    GRAVID  2010-06-28 00:06:00   \n",
       "13777  2007    39      37XX S PULASKI RD  T063    GRAVID  2007-10-04 00:10:00   \n",
       "1048   2019    24   62XX N MCCLELLAN AVE  T236    GRAVID  2019-06-13 00:06:00   \n",
       "4506   2015    31     25XX S MILLARD AVE  T152    GRAVID  2015-08-06 00:08:00   \n",
       "1246   2018    34    89XX S CARPENTER ST  T159    GRAVID  2018-08-23 00:08:00   \n",
       "9142   2012    24     82XX S KOSTNER AVE  T225    GRAVID  2012-06-15 00:06:00   \n",
       "\n",
       "       Mosquito number WNV Present           Species        Lat        Lon  \\\n",
       "12054                5    negative     CULEX PIPIENS  41.872873 -87.764737   \n",
       "15375                1    negative    CULEX RESTUANS  41.953540 -87.776939   \n",
       "8425                11    negative    CULEX RESTUANS  41.662387 -87.590180   \n",
       "16987               15    positive    CULEX RESTUANS  41.907288 -87.701391   \n",
       "11472               50    negative    CULEX RESTUANS  41.977738 -87.880969   \n",
       "13777                2    negative     CULEX PIPIENS  41.825398 -87.723962   \n",
       "1048                 1    negative   CULEX TERRITANS  41.994966 -87.770837   \n",
       "4506                 2    negative    CULEX RESTUANS  41.845715 -87.715899   \n",
       "1246                 1    negative  CULEX SALINARIUS  41.731447 -87.649722   \n",
       "9142                 2    negative    CULEX RESTUANS  41.742670 -87.731550   \n",
       "\n",
       "       Month  \n",
       "12054      7  \n",
       "15375      6  \n",
       "8425       8  \n",
       "16987      7  \n",
       "11472      6  \n",
       "13777     10  \n",
       "1048       6  \n",
       "4506       8  \n",
       "1246       8  \n",
       "9142       6  "
      ]
     },
     "execution_count": 764,
     "metadata": {},
     "output_type": "execute_result"
    }
   ],
   "source": [
    "# take a look at the data\n",
    "df.sample(10)"
   ]
  },
  {
   "cell_type": "code",
   "execution_count": 765,
   "id": "bad03e9d",
   "metadata": {
    "scrolled": true
   },
   "outputs": [
    {
     "name": "stdout",
     "output_type": "stream",
     "text": [
      "<class 'pandas.core.frame.DataFrame'>\n",
      "RangeIndex: 18495 entries, 0 to 18494\n",
      "Data columns (total 12 columns):\n",
      " #   Column           Non-Null Count  Dtype  \n",
      "---  ------           --------------  -----  \n",
      " 0   Year             18495 non-null  int64  \n",
      " 1   Week             18495 non-null  int64  \n",
      " 2   Address Block    18495 non-null  object \n",
      " 3   Trap             18495 non-null  object \n",
      " 4   Trap type        18495 non-null  object \n",
      " 5   Date             18495 non-null  object \n",
      " 6   Mosquito number  18495 non-null  int64  \n",
      " 7   WNV Present      18495 non-null  object \n",
      " 8   Species          18495 non-null  object \n",
      " 9   Lat              18495 non-null  float64\n",
      " 10  Lon              18495 non-null  float64\n",
      " 11  Month            18495 non-null  int64  \n",
      "dtypes: float64(2), int64(4), object(6)\n",
      "memory usage: 1.7+ MB\n"
     ]
    }
   ],
   "source": [
    "#learn about the data info like the columns and datatypes\n",
    "df.info()"
   ]
  },
  {
   "cell_type": "markdown",
   "id": "5e5498a3",
   "metadata": {},
   "source": [
    "# Part-1.1 Convert the WNV Present column into a binary column and create dummy variables from the Trap type column."
   ]
  },
  {
   "cell_type": "code",
   "execution_count": 766,
   "id": "ec5e379e",
   "metadata": {},
   "outputs": [],
   "source": [
    "df['WNV Present'] = df['WNV Present'].map({'positive':1,'negative':0,})"
   ]
  },
  {
   "cell_type": "markdown",
   "id": "d45daa59",
   "metadata": {},
   "source": [
    "We assign positive as 1 and negative as 2"
   ]
  },
  {
   "cell_type": "code",
   "execution_count": 767,
   "id": "861a1f01",
   "metadata": {},
   "outputs": [
    {
     "name": "stdout",
     "output_type": "stream",
     "text": [
      "<class 'pandas.core.frame.DataFrame'>\n",
      "RangeIndex: 18495 entries, 0 to 18494\n",
      "Data columns (total 12 columns):\n",
      " #   Column           Non-Null Count  Dtype  \n",
      "---  ------           --------------  -----  \n",
      " 0   Year             18495 non-null  int64  \n",
      " 1   Week             18495 non-null  int64  \n",
      " 2   Address Block    18495 non-null  object \n",
      " 3   Trap             18495 non-null  object \n",
      " 4   Trap type        18495 non-null  object \n",
      " 5   Date             18495 non-null  object \n",
      " 6   Mosquito number  18495 non-null  int64  \n",
      " 7   WNV Present      18495 non-null  int64  \n",
      " 8   Species          18495 non-null  object \n",
      " 9   Lat              18495 non-null  float64\n",
      " 10  Lon              18495 non-null  float64\n",
      " 11  Month            18495 non-null  int64  \n",
      "dtypes: float64(2), int64(5), object(5)\n",
      "memory usage: 1.7+ MB\n"
     ]
    }
   ],
   "source": [
    "df.info()"
   ]
  },
  {
   "cell_type": "code",
   "execution_count": 768,
   "id": "7441db7e",
   "metadata": {},
   "outputs": [
    {
     "data": {
      "text/plain": [
       "0        0\n",
       "1        0\n",
       "2        0\n",
       "3        0\n",
       "4        0\n",
       "        ..\n",
       "18490    1\n",
       "18491    1\n",
       "18492    1\n",
       "18493    1\n",
       "18494    1\n",
       "Name: WNV Present, Length: 18495, dtype: int64"
      ]
     },
     "execution_count": 768,
     "metadata": {},
     "output_type": "execute_result"
    }
   ],
   "source": [
    "df['WNV Present']"
   ]
  },
  {
   "cell_type": "code",
   "execution_count": 769,
   "id": "a32f701a",
   "metadata": {
    "scrolled": true
   },
   "outputs": [
    {
     "name": "stdout",
     "output_type": "stream",
     "text": [
      "<class 'pandas.core.series.Series'>\n",
      "RangeIndex: 18495 entries, 0 to 18494\n",
      "Series name: WNV Present\n",
      "Non-Null Count  Dtype\n",
      "--------------  -----\n",
      "18495 non-null  int64\n",
      "dtypes: int64(1)\n",
      "memory usage: 144.6 KB\n"
     ]
    }
   ],
   "source": [
    "#By using info(), we now can see that data type is changed to integer.\n",
    "df['WNV Present'].info()"
   ]
  },
  {
   "cell_type": "code",
   "execution_count": 770,
   "id": "0c8e681f",
   "metadata": {
    "scrolled": true
   },
   "outputs": [
    {
     "data": {
      "text/html": [
       "<div>\n",
       "<style scoped>\n",
       "    .dataframe tbody tr th:only-of-type {\n",
       "        vertical-align: middle;\n",
       "    }\n",
       "\n",
       "    .dataframe tbody tr th {\n",
       "        vertical-align: top;\n",
       "    }\n",
       "\n",
       "    .dataframe thead th {\n",
       "        text-align: right;\n",
       "    }\n",
       "</style>\n",
       "<table border=\"1\" class=\"dataframe\">\n",
       "  <thead>\n",
       "    <tr style=\"text-align: right;\">\n",
       "      <th></th>\n",
       "      <th>CDC</th>\n",
       "      <th>GRAVID</th>\n",
       "      <th>OVI</th>\n",
       "      <th>SENTINEL</th>\n",
       "    </tr>\n",
       "  </thead>\n",
       "  <tbody>\n",
       "    <tr>\n",
       "      <th>0</th>\n",
       "      <td>0</td>\n",
       "      <td>1</td>\n",
       "      <td>0</td>\n",
       "      <td>0</td>\n",
       "    </tr>\n",
       "    <tr>\n",
       "      <th>1</th>\n",
       "      <td>0</td>\n",
       "      <td>1</td>\n",
       "      <td>0</td>\n",
       "      <td>0</td>\n",
       "    </tr>\n",
       "    <tr>\n",
       "      <th>2</th>\n",
       "      <td>0</td>\n",
       "      <td>1</td>\n",
       "      <td>0</td>\n",
       "      <td>0</td>\n",
       "    </tr>\n",
       "    <tr>\n",
       "      <th>3</th>\n",
       "      <td>0</td>\n",
       "      <td>1</td>\n",
       "      <td>0</td>\n",
       "      <td>0</td>\n",
       "    </tr>\n",
       "    <tr>\n",
       "      <th>4</th>\n",
       "      <td>0</td>\n",
       "      <td>1</td>\n",
       "      <td>0</td>\n",
       "      <td>0</td>\n",
       "    </tr>\n",
       "    <tr>\n",
       "      <th>...</th>\n",
       "      <td>...</td>\n",
       "      <td>...</td>\n",
       "      <td>...</td>\n",
       "      <td>...</td>\n",
       "    </tr>\n",
       "    <tr>\n",
       "      <th>18490</th>\n",
       "      <td>0</td>\n",
       "      <td>1</td>\n",
       "      <td>0</td>\n",
       "      <td>0</td>\n",
       "    </tr>\n",
       "    <tr>\n",
       "      <th>18491</th>\n",
       "      <td>0</td>\n",
       "      <td>1</td>\n",
       "      <td>0</td>\n",
       "      <td>0</td>\n",
       "    </tr>\n",
       "    <tr>\n",
       "      <th>18492</th>\n",
       "      <td>0</td>\n",
       "      <td>1</td>\n",
       "      <td>0</td>\n",
       "      <td>0</td>\n",
       "    </tr>\n",
       "    <tr>\n",
       "      <th>18493</th>\n",
       "      <td>0</td>\n",
       "      <td>0</td>\n",
       "      <td>0</td>\n",
       "      <td>1</td>\n",
       "    </tr>\n",
       "    <tr>\n",
       "      <th>18494</th>\n",
       "      <td>0</td>\n",
       "      <td>1</td>\n",
       "      <td>0</td>\n",
       "      <td>0</td>\n",
       "    </tr>\n",
       "  </tbody>\n",
       "</table>\n",
       "<p>18495 rows × 4 columns</p>\n",
       "</div>"
      ],
      "text/plain": [
       "       CDC  GRAVID  OVI  SENTINEL\n",
       "0        0       1    0         0\n",
       "1        0       1    0         0\n",
       "2        0       1    0         0\n",
       "3        0       1    0         0\n",
       "4        0       1    0         0\n",
       "...    ...     ...  ...       ...\n",
       "18490    0       1    0         0\n",
       "18491    0       1    0         0\n",
       "18492    0       1    0         0\n",
       "18493    0       0    0         1\n",
       "18494    0       1    0         0\n",
       "\n",
       "[18495 rows x 4 columns]"
      ]
     },
     "execution_count": 770,
     "metadata": {},
     "output_type": "execute_result"
    }
   ],
   "source": [
    "#By using pd.get_dummies(), we can create dummy variables.\n",
    "pd.get_dummies(df['Trap type'])"
   ]
  },
  {
   "cell_type": "markdown",
   "id": "6953e8f8",
   "metadata": {},
   "source": [
    "# Part 1.2: What is the average number of mosquitoes for each month? What trends do you notice?"
   ]
  },
  {
   "cell_type": "code",
   "execution_count": 771,
   "id": "4f2138a8",
   "metadata": {},
   "outputs": [
    {
     "name": "stderr",
     "output_type": "stream",
     "text": [
      "C:\\Users\\Jason\\AppData\\Local\\Temp\\ipykernel_9780\\1141903469.py:1: FutureWarning: The default value of numeric_only in DataFrameGroupBy.sum is deprecated. In a future version, numeric_only will default to False. Either specify numeric_only or select only columns which should be valid for the function.\n",
      "  df.groupby('Month').sum()[['Mosquito number']]\n"
     ]
    },
    {
     "data": {
      "text/html": [
       "<div>\n",
       "<style scoped>\n",
       "    .dataframe tbody tr th:only-of-type {\n",
       "        vertical-align: middle;\n",
       "    }\n",
       "\n",
       "    .dataframe tbody tr th {\n",
       "        vertical-align: top;\n",
       "    }\n",
       "\n",
       "    .dataframe thead th {\n",
       "        text-align: right;\n",
       "    }\n",
       "</style>\n",
       "<table border=\"1\" class=\"dataframe\">\n",
       "  <thead>\n",
       "    <tr style=\"text-align: right;\">\n",
       "      <th></th>\n",
       "      <th>Mosquito number</th>\n",
       "    </tr>\n",
       "    <tr>\n",
       "      <th>Month</th>\n",
       "      <th></th>\n",
       "    </tr>\n",
       "  </thead>\n",
       "  <tbody>\n",
       "    <tr>\n",
       "      <th>5</th>\n",
       "      <td>116</td>\n",
       "    </tr>\n",
       "    <tr>\n",
       "      <th>6</th>\n",
       "      <td>28607</td>\n",
       "    </tr>\n",
       "    <tr>\n",
       "      <th>7</th>\n",
       "      <td>59007</td>\n",
       "    </tr>\n",
       "    <tr>\n",
       "      <th>8</th>\n",
       "      <td>83229</td>\n",
       "    </tr>\n",
       "    <tr>\n",
       "      <th>9</th>\n",
       "      <td>29055</td>\n",
       "    </tr>\n",
       "    <tr>\n",
       "      <th>10</th>\n",
       "      <td>1210</td>\n",
       "    </tr>\n",
       "  </tbody>\n",
       "</table>\n",
       "</div>"
      ],
      "text/plain": [
       "       Mosquito number\n",
       "Month                 \n",
       "5                  116\n",
       "6                28607\n",
       "7                59007\n",
       "8                83229\n",
       "9                29055\n",
       "10                1210"
      ]
     },
     "execution_count": 771,
     "metadata": {},
     "output_type": "execute_result"
    }
   ],
   "source": [
    "df.groupby('Month').sum()[['Mosquito number']]"
   ]
  },
  {
   "cell_type": "markdown",
   "id": "e89d69d8",
   "metadata": {},
   "source": [
    "Mosquito number peaks in July and August and falls starting from Spetember. The decreasing tends continues until May, and increases afterwards. We can tell that the numbe of mosquitoes increases in summerttime and decreases in winter time. "
   ]
  },
  {
   "cell_type": "markdown",
   "id": "628c73cc",
   "metadata": {},
   "source": [
    "# Part 2.1. Is there a statistically significant difference between the different mosquito species when looking at the occurrence of West Nile Virus?"
   ]
  },
  {
   "cell_type": "code",
   "execution_count": 772,
   "id": "f5b217fd",
   "metadata": {},
   "outputs": [
    {
     "data": {
      "text/plain": [
       "array(['CULEX RESTUANS', 'CULEX TERRITANS', 'CULEX SALINARIUS',\n",
       "       'CULEX PIPIENS'], dtype=object)"
      ]
     },
     "execution_count": 772,
     "metadata": {},
     "output_type": "execute_result"
    }
   ],
   "source": [
    "# First, take a look at the species \n",
    "df[\"Species\"].unique()"
   ]
  },
  {
   "cell_type": "code",
   "execution_count": 773,
   "id": "f05cb0f3",
   "metadata": {},
   "outputs": [],
   "source": [
    "# Perfrom Anova analyses to measure the statistical analyses\n",
    "anova_data = {}\n",
    "mosquito_types = df[\"Species\"].unique()\n",
    "\n",
    "for mosquito in mosquito_types:\n",
    "    anova_data[mosquito] = df.loc[df[\"Species\"] == mosquito, \"WNV Present\"]"
   ]
  },
  {
   "cell_type": "code",
   "execution_count": 774,
   "id": "17219fc4",
   "metadata": {},
   "outputs": [
    {
     "data": {
      "text/plain": [
       "F_onewayResult(statistic=105.4527050388844, pvalue=1.082615440825039e-67)"
      ]
     },
     "execution_count": 774,
     "metadata": {},
     "output_type": "execute_result"
    }
   ],
   "source": [
    "stats.f_oneway(anova_data[\"CULEX RESTUANS\"], \n",
    "               anova_data[\"CULEX TERRITANS\"], \n",
    "               anova_data[\"CULEX SALINARIUS\"],\n",
    "               anova_data[\"CULEX PIPIENS\"])"
   ]
  },
  {
   "cell_type": "markdown",
   "id": "f1fff8aa",
   "metadata": {},
   "source": [
    "Since the pvalue is p-value is <0.05, we can reject the null hypothesis (H0 says there is no difference), and conclude that there is a statistically significant difference between the different mosquito species when looking at the occurrence of West Nile Virus."
   ]
  },
  {
   "cell_type": "markdown",
   "id": "9248ae64",
   "metadata": {},
   "source": [
    "# Part 2.2 Which columns are positively correlated with the number of mosquitoes caught? Which columns are negatively correlated? Are these correlations statistically significant?"
   ]
  },
  {
   "cell_type": "code",
   "execution_count": 775,
   "id": "fe028372",
   "metadata": {},
   "outputs": [
    {
     "name": "stdout",
     "output_type": "stream",
     "text": [
      "Mosquito number    1.000000\n",
      "WNV Present        0.408034\n",
      "Year               0.129326\n",
      "Lat                0.096820\n",
      "Week              -0.033900\n",
      "Month             -0.040426\n",
      "Lon               -0.151421\n",
      "Name: Mosquito number, dtype: float64\n"
     ]
    }
   ],
   "source": [
    "CM = df.corr(numeric_only=True)\n",
    "CM_mosquito = CM['Mosquito number'].sort_values(ascending=False)\n",
    "print(CM_mosquito)"
   ]
  },
  {
   "cell_type": "markdown",
   "id": "492c32e4",
   "metadata": {},
   "source": [
    "Columns that are positively correlated with the number of mosquitoes caught inlcude: Year, WNV Present, Lat. Columns that are negatively correlated with the number of mosquitoes caught inlcude: Week, Lon, and month. "
   ]
  },
  {
   "cell_type": "code",
   "execution_count": 776,
   "id": "3a10e0aa",
   "metadata": {},
   "outputs": [
    {
     "name": "stdout",
     "output_type": "stream",
     "text": [
      "Correlation Coefficient: 0.12932594549371043\n",
      "P-value: 8.393050016377127e-70\n"
     ]
    }
   ],
   "source": [
    "# Calculate correlation coefficient and p-value\n",
    "correlation_coefficient, p_value = stats.pearsonr(df['Mosquito number'], df['Year'])\n",
    "\n",
    "# Print correlation coefficient and p-value\n",
    "print(\"Correlation Coefficient:\", correlation_coefficient)\n",
    "print(\"P-value:\", p_value)"
   ]
  },
  {
   "cell_type": "markdown",
   "id": "e1c5f80c",
   "metadata": {},
   "source": [
    "p< 0.05; the correlation is statistically significant"
   ]
  },
  {
   "cell_type": "code",
   "execution_count": 777,
   "id": "9c1d2f71",
   "metadata": {
    "scrolled": false
   },
   "outputs": [
    {
     "name": "stdout",
     "output_type": "stream",
     "text": [
      "Correlation Coefficient: -0.0338996075449608\n",
      "P-value: 4.0028248035811835e-06\n"
     ]
    }
   ],
   "source": [
    "# Calculate correlation coefficient and p-value\n",
    "correlation_coefficient, p_value = stats.pearsonr(df['Mosquito number'], df['Week'])\n",
    "\n",
    "# Print correlation coefficient and p-value\n",
    "print(\"Correlation Coefficient:\", correlation_coefficient)\n",
    "print(\"P-value:\", p_value)"
   ]
  },
  {
   "cell_type": "markdown",
   "id": "4ad4a228",
   "metadata": {},
   "source": [
    "p is smaller than < 0.05; the correlation is statistically significant"
   ]
  },
  {
   "cell_type": "code",
   "execution_count": 778,
   "id": "43c955f2",
   "metadata": {},
   "outputs": [
    {
     "name": "stdout",
     "output_type": "stream",
     "text": [
      "Correlation Coefficient: 0.09681989674648903\n",
      "P-value: 9.096861337562708e-40\n"
     ]
    }
   ],
   "source": [
    "# Calculate correlation coefficient and p-value\n",
    "correlation_coefficient, p_value = stats.pearsonr(df['Mosquito number'], df['Lat'])\n",
    "\n",
    "# Print correlation coefficient and p-value\n",
    "print(\"Correlation Coefficient:\", correlation_coefficient)\n",
    "print(\"P-value:\", p_value)"
   ]
  },
  {
   "cell_type": "markdown",
   "id": "9ffa78fc",
   "metadata": {},
   "source": [
    "pvalue is smaller than 0.05; the correlation is  statistically significant"
   ]
  },
  {
   "cell_type": "code",
   "execution_count": 779,
   "id": "91a42c8f",
   "metadata": {},
   "outputs": [
    {
     "name": "stdout",
     "output_type": "stream",
     "text": [
      "Correlation Coefficient: -0.151421125968909\n",
      "P-value: 2.7656039821185354e-95\n"
     ]
    }
   ],
   "source": [
    "# Calculate correlation coefficient and p-value\n",
    "correlation_coefficient, p_value = stats.pearsonr(df['Mosquito number'], df['Lon'])\n",
    "\n",
    "# Print correlation coefficient and p-value\n",
    "print(\"Correlation Coefficient:\", correlation_coefficient)\n",
    "print(\"P-value:\", p_value)"
   ]
  },
  {
   "cell_type": "markdown",
   "id": "1ccb7612",
   "metadata": {},
   "source": [
    "pvalue is smaller than 0.05; the correlation is statistically significant"
   ]
  },
  {
   "cell_type": "code",
   "execution_count": 780,
   "id": "1c8eddf5",
   "metadata": {},
   "outputs": [
    {
     "name": "stdout",
     "output_type": "stream",
     "text": [
      "Correlation Coefficient: -0.040426437196600794\n",
      "P-value: 3.8038755209747194e-08\n"
     ]
    }
   ],
   "source": [
    "# Calculate correlation coefficient and p-value\n",
    "correlation_coefficient, p_value = stats.pearsonr(df['Mosquito number'], df['Month'])\n",
    "\n",
    "# Print correlation coefficient and p-value\n",
    "print(\"Correlation Coefficient:\", correlation_coefficient)\n",
    "print(\"P-value:\", p_value)"
   ]
  },
  {
   "cell_type": "markdown",
   "id": "327f0ab2",
   "metadata": {},
   "source": [
    "p value is smaller 0.05; the correlation is statistically significant"
   ]
  },
  {
   "cell_type": "markdown",
   "id": "6490cee6",
   "metadata": {},
   "source": [
    "# Part 3-1 Run a linear regression to determine how the independent variables affect the number of mosquitoes caught. Explain your model construction process. Analyze the model and the results and discuss the model’s limitations. This may end up being an iterative process.\n"
   ]
  },
  {
   "cell_type": "code",
   "execution_count": 754,
   "id": "f6ab89f2",
   "metadata": {
    "scrolled": false
   },
   "outputs": [
    {
     "name": "stdout",
     "output_type": "stream",
     "text": [
      "<class 'pandas.core.frame.DataFrame'>\n",
      "RangeIndex: 18495 entries, 0 to 18494\n",
      "Data columns (total 12 columns):\n",
      " #   Column           Non-Null Count  Dtype  \n",
      "---  ------           --------------  -----  \n",
      " 0   Year             18495 non-null  int64  \n",
      " 1   Week             18495 non-null  int64  \n",
      " 2   Address Block    18495 non-null  object \n",
      " 3   Trap             18495 non-null  object \n",
      " 4   Trap type        18495 non-null  object \n",
      " 5   Date             18495 non-null  object \n",
      " 6   Mosquito number  18495 non-null  int64  \n",
      " 7   WNV Present      18495 non-null  int64  \n",
      " 8   Species          18495 non-null  object \n",
      " 9   Lat              18495 non-null  float64\n",
      " 10  Lon              18495 non-null  float64\n",
      " 11  Month            18495 non-null  int64  \n",
      "dtypes: float64(2), int64(5), object(5)\n",
      "memory usage: 1.7+ MB\n"
     ]
    }
   ],
   "source": [
    "df.info()"
   ]
  },
  {
   "cell_type": "code",
   "execution_count": 755,
   "id": "f3400daf",
   "metadata": {},
   "outputs": [],
   "source": [
    "# There are too many columns, drop them\n",
    "df = df.drop(['Address Block', 'Date', 'WNV Present', 'Trap'], axis=1)"
   ]
  },
  {
   "cell_type": "code",
   "execution_count": 756,
   "id": "a38b0103",
   "metadata": {
    "scrolled": true
   },
   "outputs": [
    {
     "data": {
      "text/html": [
       "<div>\n",
       "<style scoped>\n",
       "    .dataframe tbody tr th:only-of-type {\n",
       "        vertical-align: middle;\n",
       "    }\n",
       "\n",
       "    .dataframe tbody tr th {\n",
       "        vertical-align: top;\n",
       "    }\n",
       "\n",
       "    .dataframe thead th {\n",
       "        text-align: right;\n",
       "    }\n",
       "</style>\n",
       "<table border=\"1\" class=\"dataframe\">\n",
       "  <thead>\n",
       "    <tr style=\"text-align: right;\">\n",
       "      <th></th>\n",
       "      <th>Year</th>\n",
       "      <th>Week</th>\n",
       "      <th>Trap type</th>\n",
       "      <th>Mosquito number</th>\n",
       "      <th>Species</th>\n",
       "      <th>Lat</th>\n",
       "      <th>Lon</th>\n",
       "      <th>Month</th>\n",
       "    </tr>\n",
       "  </thead>\n",
       "  <tbody>\n",
       "    <tr>\n",
       "      <th>0</th>\n",
       "      <td>2019</td>\n",
       "      <td>39</td>\n",
       "      <td>GRAVID</td>\n",
       "      <td>2</td>\n",
       "      <td>CULEX RESTUANS</td>\n",
       "      <td>41.977738</td>\n",
       "      <td>-87.880969</td>\n",
       "      <td>9</td>\n",
       "    </tr>\n",
       "    <tr>\n",
       "      <th>1</th>\n",
       "      <td>2019</td>\n",
       "      <td>39</td>\n",
       "      <td>GRAVID</td>\n",
       "      <td>1</td>\n",
       "      <td>CULEX RESTUANS</td>\n",
       "      <td>41.798211</td>\n",
       "      <td>-87.736925</td>\n",
       "      <td>9</td>\n",
       "    </tr>\n",
       "    <tr>\n",
       "      <th>2</th>\n",
       "      <td>2019</td>\n",
       "      <td>39</td>\n",
       "      <td>GRAVID</td>\n",
       "      <td>2</td>\n",
       "      <td>CULEX RESTUANS</td>\n",
       "      <td>41.987245</td>\n",
       "      <td>-87.689417</td>\n",
       "      <td>9</td>\n",
       "    </tr>\n",
       "    <tr>\n",
       "      <th>3</th>\n",
       "      <td>2019</td>\n",
       "      <td>39</td>\n",
       "      <td>GRAVID</td>\n",
       "      <td>1</td>\n",
       "      <td>CULEX RESTUANS</td>\n",
       "      <td>41.953664</td>\n",
       "      <td>-87.724987</td>\n",
       "      <td>9</td>\n",
       "    </tr>\n",
       "    <tr>\n",
       "      <th>4</th>\n",
       "      <td>2019</td>\n",
       "      <td>39</td>\n",
       "      <td>GRAVID</td>\n",
       "      <td>9</td>\n",
       "      <td>CULEX RESTUANS</td>\n",
       "      <td>41.657069</td>\n",
       "      <td>-87.546049</td>\n",
       "      <td>9</td>\n",
       "    </tr>\n",
       "  </tbody>\n",
       "</table>\n",
       "</div>"
      ],
      "text/plain": [
       "   Year  Week Trap type  Mosquito number         Species        Lat  \\\n",
       "0  2019    39    GRAVID                2  CULEX RESTUANS  41.977738   \n",
       "1  2019    39    GRAVID                1  CULEX RESTUANS  41.798211   \n",
       "2  2019    39    GRAVID                2  CULEX RESTUANS  41.987245   \n",
       "3  2019    39    GRAVID                1  CULEX RESTUANS  41.953664   \n",
       "4  2019    39    GRAVID                9  CULEX RESTUANS  41.657069   \n",
       "\n",
       "         Lon  Month  \n",
       "0 -87.880969      9  \n",
       "1 -87.736925      9  \n",
       "2 -87.689417      9  \n",
       "3 -87.724987      9  \n",
       "4 -87.546049      9  "
      ]
     },
     "execution_count": 756,
     "metadata": {},
     "output_type": "execute_result"
    }
   ],
   "source": [
    "df.head()"
   ]
  },
  {
   "cell_type": "code",
   "execution_count": 757,
   "id": "b155d4af",
   "metadata": {},
   "outputs": [
    {
     "name": "stdout",
     "output_type": "stream",
     "text": [
      "<class 'pandas.core.frame.DataFrame'>\n",
      "RangeIndex: 18495 entries, 0 to 18494\n",
      "Data columns (total 8 columns):\n",
      " #   Column           Non-Null Count  Dtype  \n",
      "---  ------           --------------  -----  \n",
      " 0   Year             18495 non-null  int64  \n",
      " 1   Week             18495 non-null  int64  \n",
      " 2   Trap type        18495 non-null  object \n",
      " 3   Mosquito number  18495 non-null  int64  \n",
      " 4   Species          18495 non-null  object \n",
      " 5   Lat              18495 non-null  float64\n",
      " 6   Lon              18495 non-null  float64\n",
      " 7   Month            18495 non-null  int64  \n",
      "dtypes: float64(2), int64(4), object(2)\n",
      "memory usage: 1.1+ MB\n"
     ]
    }
   ],
   "source": [
    "df.info()"
   ]
  },
  {
   "cell_type": "code",
   "execution_count": 758,
   "id": "e4f56564",
   "metadata": {},
   "outputs": [],
   "source": [
    "# Create dummy variables for Trap type and species\n",
    "df_encoded = pd.get_dummies(df, columns=['Trap type', 'Species'], drop_first=True)"
   ]
  },
  {
   "cell_type": "code",
   "execution_count": 759,
   "id": "387676cf",
   "metadata": {
    "scrolled": false
   },
   "outputs": [
    {
     "name": "stdout",
     "output_type": "stream",
     "text": [
      "<class 'pandas.core.frame.DataFrame'>\n",
      "RangeIndex: 18495 entries, 0 to 18494\n",
      "Data columns (total 12 columns):\n",
      " #   Column                    Non-Null Count  Dtype  \n",
      "---  ------                    --------------  -----  \n",
      " 0   Year                      18495 non-null  int64  \n",
      " 1   Week                      18495 non-null  int64  \n",
      " 2   Mosquito number           18495 non-null  int64  \n",
      " 3   Lat                       18495 non-null  float64\n",
      " 4   Lon                       18495 non-null  float64\n",
      " 5   Month                     18495 non-null  int64  \n",
      " 6   Trap type_GRAVID          18495 non-null  uint8  \n",
      " 7   Trap type_OVI             18495 non-null  uint8  \n",
      " 8   Trap type_SENTINEL        18495 non-null  uint8  \n",
      " 9   Species_CULEX RESTUANS    18495 non-null  uint8  \n",
      " 10  Species_CULEX SALINARIUS  18495 non-null  uint8  \n",
      " 11  Species_CULEX TERRITANS   18495 non-null  uint8  \n",
      "dtypes: float64(2), int64(4), uint8(6)\n",
      "memory usage: 975.4 KB\n"
     ]
    }
   ],
   "source": [
    "df_encoded.info()"
   ]
  },
  {
   "cell_type": "code",
   "execution_count": 760,
   "id": "ca1e4221",
   "metadata": {},
   "outputs": [],
   "source": [
    "X = df_encoded.drop('Mosquito number', axis=1)  # Independent variables (features)\n",
    "y = df_encoded['Mosquito number']  # Dependent variable (target)"
   ]
  },
  {
   "cell_type": "code",
   "execution_count": 761,
   "id": "a6593ec2",
   "metadata": {
    "scrolled": true
   },
   "outputs": [
    {
     "name": "stdout",
     "output_type": "stream",
     "text": [
      "                            OLS Regression Results                            \n",
      "==============================================================================\n",
      "Dep. Variable:        Mosquito number   R-squared:                       0.093\n",
      "Model:                            OLS   Adj. R-squared:                  0.092\n",
      "Method:                 Least Squares   F-statistic:                     171.3\n",
      "Date:                Sat, 10 Jun 2023   Prob (F-statistic):               0.00\n",
      "Time:                        22:11:15   Log-Likelihood:                -73448.\n",
      "No. Observations:               18495   AIC:                         1.469e+05\n",
      "Df Residuals:                   18483   BIC:                         1.470e+05\n",
      "Df Model:                          11                                         \n",
      "Covariance Type:            nonrobust                                         \n",
      "============================================================================================\n",
      "                               coef    std err          t      P>|t|      [0.025      0.975]\n",
      "--------------------------------------------------------------------------------------------\n",
      "const                    -2992.6286    111.344    -26.877      0.000   -3210.874   -2774.383\n",
      "Year                         0.5333      0.029     18.425      0.000       0.477       0.590\n",
      "Week                        -0.0762      0.072     -1.065      0.287      -0.216       0.064\n",
      "Lat                         -4.8662      1.239     -3.928      0.000      -7.294      -2.438\n",
      "Lon                        -24.5167      1.503    -16.314      0.000     -27.462     -21.571\n",
      "Month                       -0.3356      0.311     -1.080      0.280      -0.945       0.273\n",
      "Trap type_GRAVID           -10.9935      0.583    -18.850      0.000     -12.137      -9.850\n",
      "Trap type_OVI              -20.9748     12.855     -1.632      0.103     -46.171       4.222\n",
      "Trap type_SENTINEL           2.0630      1.083      1.905      0.057      -0.060       4.186\n",
      "Species_CULEX RESTUANS      -1.2567      0.240     -5.243      0.000      -1.726      -0.787\n",
      "Species_CULEX SALINARIUS    -9.7623      0.874    -11.172      0.000     -11.475      -8.050\n",
      "Species_CULEX TERRITANS     -9.2942      0.465    -19.981      0.000     -10.206      -8.382\n",
      "==============================================================================\n",
      "Omnibus:                     4534.845   Durbin-Watson:                   1.551\n",
      "Prob(Omnibus):                  0.000   Jarque-Bera (JB):             8986.296\n",
      "Skew:                           1.504   Prob(JB):                         0.00\n",
      "Kurtosis:                       4.618   Cond. No.                     2.38e+06\n",
      "==============================================================================\n",
      "\n",
      "Notes:\n",
      "[1] Standard Errors assume that the covariance matrix of the errors is correctly specified.\n",
      "[2] The condition number is large, 2.38e+06. This might indicate that there are\n",
      "strong multicollinearity or other numerical problems.\n"
     ]
    }
   ],
   "source": [
    "# Add a constant column to X\n",
    "X = sm.add_constant(X)\n",
    "\n",
    "# Fit the linear regression model\n",
    "model = sm.OLS(y, X)\n",
    "lm = model.fit()\n",
    "\n",
    "# Print the summary of the model\n",
    "print(lm.summary())"
   ]
  },
  {
   "cell_type": "markdown",
   "id": "3a80f544",
   "metadata": {},
   "source": [
    "R-squared : \n",
    "- The R-squared value is 0.093, indicating that approximately 9.3% of the variance in the dependent variable (Mosquito number) is explained by the independent variables in the model. \n",
    "\n",
    "Coefficients: \n",
    "\n",
    "- The coefficient for the \"Year\" variable is 0.5333, indicating that a one-unit increase in the \"Year\" variable is associated with a 0.5333 unit increase in the \"Mosquito number\" \n",
    "- he coefficient for the \"Trap type_SENTINEL\" variable is 2.0630, indicating that a one-unit increase in the \"Trap type_SENTINEL\" variable is associated with a 2.0630 unit increase in the \"Mosquito number\" \n",
    "\n",
    "\n",
    "p-value: \n",
    "- The p-value represents the probability of observing the coefficient estimate as extreme as the one calculated, assuming the null hypothesis is true (null hypothesis: the coefficient is equal to zero). - A low p-value (typically less than 0.05) suggests that the variable has a significant effect on the dependent variable."
   ]
  },
  {
   "cell_type": "code",
   "execution_count": null,
   "id": "db91b21e",
   "metadata": {},
   "outputs": [],
   "source": []
  },
  {
   "cell_type": "markdown",
   "id": "158b177b",
   "metadata": {},
   "source": [
    "# Part 3-2 Run a logistic regression to determine how the independent variables affect West Nile Virus presence. Explain your model construction process. Analyze the model and the results and discuss the model’s limitations. This may end up being an iterative process.\n"
   ]
  },
  {
   "cell_type": "code",
   "execution_count": 781,
   "id": "f597bf87",
   "metadata": {
    "scrolled": true
   },
   "outputs": [
    {
     "data": {
      "text/plain": [
       "Year                 int64\n",
       "Week                 int64\n",
       "Address Block       object\n",
       "Trap                object\n",
       "Trap type           object\n",
       "Date                object\n",
       "Mosquito number      int64\n",
       "WNV Present          int64\n",
       "Species             object\n",
       "Lat                float64\n",
       "Lon                float64\n",
       "Month                int64\n",
       "dtype: object"
      ]
     },
     "execution_count": 781,
     "metadata": {},
     "output_type": "execute_result"
    }
   ],
   "source": [
    "df.dtypes"
   ]
  },
  {
   "cell_type": "code",
   "execution_count": 782,
   "id": "357c523f",
   "metadata": {},
   "outputs": [],
   "source": [
    "df = df.drop(['Address Block', 'Date', 'Trap'], axis=1)"
   ]
  },
  {
   "cell_type": "code",
   "execution_count": 783,
   "id": "738c2b7b",
   "metadata": {},
   "outputs": [],
   "source": [
    "df_encoded = pd.get_dummies(df, columns=['Trap type', 'Species'], drop_first=True)"
   ]
  },
  {
   "cell_type": "code",
   "execution_count": 784,
   "id": "a70027a9",
   "metadata": {
    "scrolled": true
   },
   "outputs": [
    {
     "name": "stdout",
     "output_type": "stream",
     "text": [
      "Warning: Maximum number of iterations has been exceeded.\n",
      "         Current function value: 0.405443\n",
      "         Iterations: 35\n"
     ]
    },
    {
     "name": "stderr",
     "output_type": "stream",
     "text": [
      "C:\\Users\\Jason\\anaconda3\\lib\\site-packages\\statsmodels\\base\\model.py:604: ConvergenceWarning: Maximum Likelihood optimization failed to converge. Check mle_retvals\n",
      "  warnings.warn(\"Maximum Likelihood optimization failed to \"\n"
     ]
    },
    {
     "data": {
      "text/html": [
       "<table class=\"simpletable\">\n",
       "<caption>Logit Regression Results</caption>\n",
       "<tr>\n",
       "  <th>Dep. Variable:</th>      <td>WNV Present</td>   <th>  No. Observations:  </th>  <td> 18495</td> \n",
       "</tr>\n",
       "<tr>\n",
       "  <th>Model:</th>                 <td>Logit</td>      <th>  Df Residuals:      </th>  <td> 18482</td> \n",
       "</tr>\n",
       "<tr>\n",
       "  <th>Method:</th>                 <td>MLE</td>       <th>  Df Model:          </th>  <td>    12</td> \n",
       "</tr>\n",
       "<tr>\n",
       "  <th>Date:</th>            <td>Sat, 10 Jun 2023</td> <th>  Pseudo R-squ.:     </th>  <td>0.2229</td> \n",
       "</tr>\n",
       "<tr>\n",
       "  <th>Time:</th>                <td>22:11:34</td>     <th>  Log-Likelihood:    </th> <td> -7498.7</td>\n",
       "</tr>\n",
       "<tr>\n",
       "  <th>converged:</th>             <td>False</td>      <th>  LL-Null:           </th> <td> -9649.5</td>\n",
       "</tr>\n",
       "<tr>\n",
       "  <th>Covariance Type:</th>     <td>nonrobust</td>    <th>  LLR p-value:       </th>  <td> 0.000</td> \n",
       "</tr>\n",
       "</table>\n",
       "<table class=\"simpletable\">\n",
       "<tr>\n",
       "              <td></td>                <th>coef</th>     <th>std err</th>      <th>z</th>      <th>P>|z|</th>  <th>[0.025</th>    <th>0.975]</th>  \n",
       "</tr>\n",
       "<tr>\n",
       "  <th>const</th>                    <td> -517.7750</td> <td>   25.185</td> <td>  -20.559</td> <td> 0.000</td> <td> -567.137</td> <td> -468.412</td>\n",
       "</tr>\n",
       "<tr>\n",
       "  <th>Year</th>                     <td>    0.1130</td> <td>    0.007</td> <td>   16.467</td> <td> 0.000</td> <td>    0.100</td> <td>    0.126</td>\n",
       "</tr>\n",
       "<tr>\n",
       "  <th>Week</th>                     <td>    0.1002</td> <td>    0.016</td> <td>    6.243</td> <td> 0.000</td> <td>    0.069</td> <td>    0.132</td>\n",
       "</tr>\n",
       "<tr>\n",
       "  <th>Mosquito number</th>          <td>    0.0651</td> <td>    0.001</td> <td>   44.694</td> <td> 0.000</td> <td>    0.062</td> <td>    0.068</td>\n",
       "</tr>\n",
       "<tr>\n",
       "  <th>Lat</th>                      <td>   -0.6595</td> <td>    0.287</td> <td>   -2.301</td> <td> 0.021</td> <td>   -1.221</td> <td>   -0.098</td>\n",
       "</tr>\n",
       "<tr>\n",
       "  <th>Lon</th>                      <td>   -3.5432</td> <td>    0.335</td> <td>  -10.580</td> <td> 0.000</td> <td>   -4.200</td> <td>   -2.887</td>\n",
       "</tr>\n",
       "<tr>\n",
       "  <th>Month</th>                    <td>    0.2202</td> <td>    0.069</td> <td>    3.192</td> <td> 0.001</td> <td>    0.085</td> <td>    0.355</td>\n",
       "</tr>\n",
       "<tr>\n",
       "  <th>Trap type_GRAVID</th>         <td>    0.1557</td> <td>    0.132</td> <td>    1.184</td> <td> 0.237</td> <td>   -0.102</td> <td>    0.413</td>\n",
       "</tr>\n",
       "<tr>\n",
       "  <th>Trap type_OVI</th>            <td>  -13.7967</td> <td> 6889.959</td> <td>   -0.002</td> <td> 0.998</td> <td>-1.35e+04</td> <td> 1.35e+04</td>\n",
       "</tr>\n",
       "<tr>\n",
       "  <th>Trap type_SENTINEL</th>       <td>   -0.2383</td> <td>    0.215</td> <td>   -1.111</td> <td> 0.267</td> <td>   -0.659</td> <td>    0.182</td>\n",
       "</tr>\n",
       "<tr>\n",
       "  <th>Species_CULEX RESTUANS</th>   <td>   -0.2502</td> <td>    0.051</td> <td>   -4.876</td> <td> 0.000</td> <td>   -0.351</td> <td>   -0.150</td>\n",
       "</tr>\n",
       "<tr>\n",
       "  <th>Species_CULEX SALINARIUS</th> <td>   -0.9952</td> <td>    0.322</td> <td>   -3.088</td> <td> 0.002</td> <td>   -1.627</td> <td>   -0.364</td>\n",
       "</tr>\n",
       "<tr>\n",
       "  <th>Species_CULEX TERRITANS</th>  <td>   -2.4900</td> <td>    0.274</td> <td>   -9.072</td> <td> 0.000</td> <td>   -3.028</td> <td>   -1.952</td>\n",
       "</tr>\n",
       "</table>"
      ],
      "text/plain": [
       "<class 'statsmodels.iolib.summary.Summary'>\n",
       "\"\"\"\n",
       "                           Logit Regression Results                           \n",
       "==============================================================================\n",
       "Dep. Variable:            WNV Present   No. Observations:                18495\n",
       "Model:                          Logit   Df Residuals:                    18482\n",
       "Method:                           MLE   Df Model:                           12\n",
       "Date:                Sat, 10 Jun 2023   Pseudo R-squ.:                  0.2229\n",
       "Time:                        22:11:34   Log-Likelihood:                -7498.7\n",
       "converged:                      False   LL-Null:                       -9649.5\n",
       "Covariance Type:            nonrobust   LLR p-value:                     0.000\n",
       "============================================================================================\n",
       "                               coef    std err          z      P>|z|      [0.025      0.975]\n",
       "--------------------------------------------------------------------------------------------\n",
       "const                     -517.7750     25.185    -20.559      0.000    -567.137    -468.412\n",
       "Year                         0.1130      0.007     16.467      0.000       0.100       0.126\n",
       "Week                         0.1002      0.016      6.243      0.000       0.069       0.132\n",
       "Mosquito number              0.0651      0.001     44.694      0.000       0.062       0.068\n",
       "Lat                         -0.6595      0.287     -2.301      0.021      -1.221      -0.098\n",
       "Lon                         -3.5432      0.335    -10.580      0.000      -4.200      -2.887\n",
       "Month                        0.2202      0.069      3.192      0.001       0.085       0.355\n",
       "Trap type_GRAVID             0.1557      0.132      1.184      0.237      -0.102       0.413\n",
       "Trap type_OVI              -13.7967   6889.959     -0.002      0.998   -1.35e+04    1.35e+04\n",
       "Trap type_SENTINEL          -0.2383      0.215     -1.111      0.267      -0.659       0.182\n",
       "Species_CULEX RESTUANS      -0.2502      0.051     -4.876      0.000      -0.351      -0.150\n",
       "Species_CULEX SALINARIUS    -0.9952      0.322     -3.088      0.002      -1.627      -0.364\n",
       "Species_CULEX TERRITANS     -2.4900      0.274     -9.072      0.000      -3.028      -1.952\n",
       "============================================================================================\n",
       "\"\"\""
      ]
     },
     "execution_count": 784,
     "metadata": {},
     "output_type": "execute_result"
    }
   ],
   "source": [
    "# Define my X and y\n",
    "X = df_encoded.drop('WNV Present', axis=1)\n",
    "y = df_encoded['WNV Present']\n",
    "\n",
    "# adding the column of ones\n",
    "X_withconstant = sm.add_constant(X)\n",
    "\n",
    "# Fitting the model \n",
    "\n",
    "# 1. Instantiate model\n",
    "WNVpresent= sm.Logit(y,X_withconstant)\n",
    "\n",
    "# 2. Fit model\n",
    "WNVpresent_results = WNVpresent.fit()\n",
    "\n",
    "# Look at summary\n",
    "WNVpresent_results.summary()"
   ]
  },
  {
   "cell_type": "code",
   "execution_count": null,
   "id": "1df07900",
   "metadata": {},
   "outputs": [],
   "source": []
  },
  {
   "cell_type": "markdown",
   "id": "14de15db",
   "metadata": {},
   "source": [
    "The results of the logistic regression model are as follows:\n",
    "\n",
    "The coefficients for the independent variables are as follows:\n",
    "\n",
    "- Year: 0.1130, suggesting that with each unit increase in the year, the log-odds of West Nile Virus presence increase by 0.1130.\n",
    "- Week: 0.1002, indicating that with each unit increase in the week, the log-odds of West Nile Virus presence increase by 0.1002.\n",
    "- Mosquito number: 0.0651, suggesting that for each additional mosquito, the log-odds of West Nile Virus presence increase by 0.0651.\n",
    "- Lat: -0.6595, indicating that with each unit increase in latitude, the log-odds of West Nile Virus presence decrease by 0.6595.\n",
    "- Lon: -3.5432, suggesting that with each unit increase in longitude, the log-odds of West Nile Virus presence decrease by 3.5432.\n",
    "- Month: 0.2202, indicating that for each month increase, the log-odds of West Nile Virus presence increase by 0.2202.\n",
    "- Trap type_GRAVID: 0.1557, suggesting that the presence of the 'GRAVID' trap type increases the log-odds of West Nile Virus presence by 0.1557 compared to the reference trap type.\n",
    "- Trap type_OVI: -13.7967, but it seems that the coefficient is extremely large and likely due to numerical instability or data issue. It may not be interpretable or meaningful.\n",
    "- Trap type_SENTINEL: -0.2383, indicating that the presence of the 'SENTINEL' trap type decreases the log-odds of West Nile Virus presence by 0.2383 compared to the reference trap type.\n",
    "- Species_CULEX RESTUANS: -0.2502, suggesting that the presence of the 'CULEX RESTUANS' species decreases the log-odds of West Nile Virus presence by 0.2502 compared to the reference species.\n",
    "- Species_CULEX SALINARIUS: -0.9952, indicating that the presence of the 'CULEX SALINARIUS' species - decreases the log-odds of West Nile Virus presence by 0.9952 compared to the reference species.\n",
    "- Species_CULEX TERRITANS: -2.4900, suggesting that the presence of the 'CULEX TERRITANS' species decreases the log-odds of West Nile Virus presence by 2.4900 compared to the reference species.\n",
    "\n",
    "p-vale analyses:\n",
    "-  'Year', 'Week', 'Mosquito number', 'Lat', 'Lon', 'Month', 'Species_CULEX RESTUANS', and 'Species_CULEX SALINARIUS' have p-values less than 0.05 and are considered statistically significant.\n",
    "\n",
    "The limitations of the model may include:\n",
    "\n",
    "- There may be other factors promoting the West Nile Virus presence including environmental factors like weather and the number of intermediate hosts of WNV like animals."
   ]
  },
  {
   "cell_type": "code",
   "execution_count": null,
   "id": "8bf483f2",
   "metadata": {},
   "outputs": [],
   "source": []
  },
  {
   "cell_type": "code",
   "execution_count": null,
   "id": "f4456cef",
   "metadata": {},
   "outputs": [],
   "source": []
  }
 ],
 "metadata": {
  "kernelspec": {
   "display_name": "Python 3 (ipykernel)",
   "language": "python",
   "name": "python3"
  },
  "language_info": {
   "codemirror_mode": {
    "name": "ipython",
    "version": 3
   },
   "file_extension": ".py",
   "mimetype": "text/x-python",
   "name": "python",
   "nbconvert_exporter": "python",
   "pygments_lexer": "ipython3",
   "version": "3.10.9"
  }
 },
 "nbformat": 4,
 "nbformat_minor": 5
}
